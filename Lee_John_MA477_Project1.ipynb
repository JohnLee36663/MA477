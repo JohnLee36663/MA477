{
 "cells": [
  {
   "cell_type": "markdown",
   "metadata": {},
   "source": [
    "<h2> ======================================================</h2>\n",
    " <h1>MA477 - Theory and Applications of Data Science</h1> \n",
    "  <h1>Project 1: Linear Regression & KNN Regressor</h1> \n",
    " \n",
    " <h4>Dr. Valmir Bucaj</h4>\n",
    " <br>\n",
    " United States Military Academy, West Point, AY20-2\n",
    "<h2>=======================================================</h2>\n",
    "\n",
    "<h2> Weight: <font color='red'>50pts</font</h2>\n",
    "    \n",
    " <h2>Due Date: <font color='red'>Feb. 14th by COB</font</h2>"
   ]
  },
  {
   "cell_type": "markdown",
   "metadata": {},
   "source": [
    "<hr style=\"height:3.2px;border:none;color:#333;background-color:#333;\" />\n",
    "\n",
    "<h3> Cadet Name: John Lee</h3>\n",
    "<br>\n",
    "<h3>Date: 13 February 2020</h3>\n",
    "\n",
    "<br>\n",
    "\n",
    "<font color='red' size='3'> <b>$X$</b> MY DOCUMENTATION IDENTIFIES ALL SOURCES USED AND ASSISTANCE RECEIVED IN THIS ASSIGNMENT\n",
    "<br>\n",
    "\n",
    "<b>$\\dots \\dots$ </b> I DID NOT USE ANY SOURCES OR ASSISTANCE REQUIRING DOCUMENATION IN COMPLETING THIS ASSIGNMENT</font>\n",
    "\n",
    "<h3> Signature/Initials: JL</h3>\n",
    "\n",
    "<hr style=\"height:3px;border:none;color:#333;background-color:#333;\" />"
   ]
  },
  {
   "cell_type": "markdown",
   "metadata": {},
   "source": [
    "<h2>Description of Project</h2>\n",
    "\n",
    "In this project you will be working with the `incurance` dataset contained in the folder. The `insurance` dataset contains information of different people, and based on this information how much the insurance compay charges them. The ultimate goal is to predict the insurance charges for new people based on the historical information collected about each person. The features that have been collected are: `age, sex, bmi, children, smoker,` and `region`. \n",
    "\n",
    "You are provided with two separate sets: `insurance_train` which you will use to train your model and `insurance_test` which you will use to generate the predictions. Once you generate the predictions, you should save the results on an excel file and submit that to me. \n",
    "\n",
    "The project will be broken into two main parts: The <b>Analysis</b> and <b> Best Model</b> portions.\n",
    "\n",
    "<h3>Analysis</h3>\n",
    "\n",
    "The <b>Analysis</b> portion is worth <b>30pts</b>.\n",
    "\n",
    "For this portion of the project you will be evaluated on the overall analysis of the dataset.\n",
    "\n",
    "The rough point breakdown is as follows:\n",
    "\n",
    "<ul>\n",
    "<li>A one or two pargraph explaining what the project is about, what are the results, and the methodology: <b>10pts</b></li>\n",
    "\n",
    "<li>Thoroughly addressing all the questions and completing all the required tasks: <b>10pts </b></li>\n",
    "\n",
    "<li> Creativity and quality of Python code and explanation of the step-by-step code/work:<b> 10pts</b></li>\n",
    "</ul>\n",
    "\n",
    "<h4>Tasks</h4>\n",
    "\n",
    "<ul>\n",
    "    <li> Data Preprocessing: Explain how you are handling the missing data, are you scaling the data and why?</li>\n",
    "    \n",
    "   <li> Conduct exploratory analysis, and briefly summarize your observations and findings. Exploring your data using a variety of visual tools counts as part of exploratory analysis.</li>\n",
    "        \n",
    "   <li> Explain how you handled each of the qualitative features. </li>\n",
    "   \n",
    "   <li> What model did you pick and why? At this stage only choose between KNN Regressor and Linear Regression</li>\n",
    "   \n",
    "   <li>Explain the type of relationship(linear vs. non-linear) between features and response variable, and how you came to your conclusions. </li>\n",
    "   \n",
    "   <li> Obtain a measure of your model's variability and prediction power. Explain your method and results.</li>\n",
    "   \n",
    "    \n",
    " </ul>\n",
    "\n",
    "<h3>Best Model</h3>\n",
    "\n",
    "The <b>Best Model</b> portion is worth <b>20pts</b>.\n",
    "\n",
    "For this portion you will exclusively be evaluated on the predictive power of your model. In this portion you will be competing with the rest of your peers for the top score. The scores will be, roughly, distributed according to the following scheme:\n",
    "\n",
    "\n",
    "\n",
    "There are two instances where there may be significant deviations from the above grading scheme:\n",
    "\n",
    "\n",
    "\n",
    "\n",
    "\n",
    "<table>\n",
    "  <tr>\n",
    "    <th>Points</th>\n",
    "    <th>Criteria</th>\n",
    "\n",
    "  </tr>\n",
    "  <tr>\n",
    "    <td>18-20</td>\n",
    "    <td>Highest R2 Score</td>\n",
    "   \n",
    "  </tr>\n",
    "  <tr>\n",
    "    <td>17-19</td>\n",
    "    <td>.25 StDevs of highest R2 score</td>\n",
    "   \n",
    "  </tr>\n",
    "  <tr>\n",
    "    <td>15-16</td>\n",
    "    <td>.5 StDevs of highest R2 score</td>\n",
    "  \n",
    "  </tr>\n",
    "  <tr>\n",
    "    <td>13-14</td>\n",
    "    <td>.75 StDevs of highest R2 score</td>\n",
    "  \n",
    "  </tr>\n",
    "  <tr>\n",
    "    <td>11-12</td>\n",
    "    <td>1.25 StDevs of highest R2 score</td>\n",
    "\n",
    "  </tr>\n",
    "  <tr>\n",
    "    <td>10</td>\n",
    "    <td>1.75 StDevs of highest R2 score</td>\n",
    "   \n",
    "  </tr>\n",
    "  <tr>\n",
    "    <td>9</td>\n",
    "    <td>2 StDevs of highest R2 score</td>\n",
    "   \n",
    "  </tr>\n",
    "   <tr>\n",
    "    <td>7-8</td>\n",
    "    <td> 2+ StDevs of highest R2 score</td>\n",
    "   \n",
    "  </tr>\n",
    "</table>\n",
    "\n",
    "\n",
    "\n",
    "<ul>\n",
    "  <li> If a student's model achieves an R2 score that is at least as high as the R2 score achieved by the model build by the instructor, then you will automatically get a $20$</li>\n",
    "  <li> If the highest R2 score by a student is signigicantly smaller than the R2 score achieved by the model built by the instructor, the insturctor reserves the right to assign a max score that is significantly lower than what is stated in the grading scheme above. In this situation the rest of the scores will also be adjusted accordingly.</li>\n",
    " </ul>\n",
    " \n",
    " <h3>How to Submit?</h3>\n",
    " \n",
    " All of your work should be done in a single JupyterNotebook. You will submit to me via email a total of two files. One will be the JupyterNotebook which contains your whole work. The second file should be an excel file containing ONLY the predictions of your model on the test set `insurance_test`."
   ]
  },
  {
   "cell_type": "markdown",
   "metadata": {},
   "source": [
    "# Analysis"
   ]
  },
  {
   "cell_type": "markdown",
   "metadata": {},
   "source": [
    "In this project, we seek to predict insurance company charges for a variety of people based on characteristics of those people to include age, Body Mass Index, number of children they have, what region of the U.S they live in, sex, and whether they smoke. Intuitively, it makes sense that many of these features could affect health insurance costs because companies are likely to charge more for health insurance for unhealthy, older people because they are more likely to have issues. Region could have some effect because certain parts of the country are healthier and certain parts are cheaper, but this connection seems further fetched. \n",
    "The methodology of the project followed a common analytical process. First, we wrangled the data into a desired form by filling missing values, and converting string variables into numerical values. Next we examined the relationship between our variables through visual plots, finding that only age, BMI, and smoking had roughly linear relationships with charges. Then we split our response variable (charges) off from our predictor variables, and standardized the predictors. Finally, we cross validated linear regression, k nearest neighbor, ridge regression, and spline regression models with our data. We also looped over parameters in these models to find values with the highest R squared. Our final results revealed that while linear, ridge, and spline regression models yielded R squared values around 0.74, KNN yielded a maximum of 0.83, which makes sense due to the questionable linearity of our variables. Thus we selected a KNN(k=11) model to fit to our test data, which was our ultimate solution."
   ]
  },
  {
   "cell_type": "code",
   "execution_count": 1,
   "metadata": {},
   "outputs": [],
   "source": [
    "import pandas as pd\n",
    "import numpy as np\n",
    "import matplotlib.pyplot as plt\n",
    "import seaborn as sns"
   ]
  },
  {
   "cell_type": "markdown",
   "metadata": {},
   "source": [
    "# Data Wrangling"
   ]
  },
  {
   "cell_type": "code",
   "execution_count": 2,
   "metadata": {},
   "outputs": [],
   "source": [
    "insurance=pd.read_excel('insurance_train.xlsx')"
   ]
  },
  {
   "cell_type": "code",
   "execution_count": 3,
   "metadata": {
    "scrolled": true
   },
   "outputs": [
    {
     "data": {
      "text/html": [
       "<div>\n",
       "<style scoped>\n",
       "    .dataframe tbody tr th:only-of-type {\n",
       "        vertical-align: middle;\n",
       "    }\n",
       "\n",
       "    .dataframe tbody tr th {\n",
       "        vertical-align: top;\n",
       "    }\n",
       "\n",
       "    .dataframe thead th {\n",
       "        text-align: right;\n",
       "    }\n",
       "</style>\n",
       "<table border=\"1\" class=\"dataframe\">\n",
       "  <thead>\n",
       "    <tr style=\"text-align: right;\">\n",
       "      <th></th>\n",
       "      <th>age</th>\n",
       "      <th>sex</th>\n",
       "      <th>bmi</th>\n",
       "      <th>children</th>\n",
       "      <th>smoker</th>\n",
       "      <th>region</th>\n",
       "      <th>charges</th>\n",
       "    </tr>\n",
       "  </thead>\n",
       "  <tbody>\n",
       "    <tr>\n",
       "      <td>0</td>\n",
       "      <td>52.0</td>\n",
       "      <td>female</td>\n",
       "      <td>24.130</td>\n",
       "      <td>1</td>\n",
       "      <td>yes</td>\n",
       "      <td>northwest</td>\n",
       "      <td>23887.66270</td>\n",
       "    </tr>\n",
       "    <tr>\n",
       "      <td>1</td>\n",
       "      <td>46.0</td>\n",
       "      <td>male</td>\n",
       "      <td>43.890</td>\n",
       "      <td>3</td>\n",
       "      <td>no</td>\n",
       "      <td>southeast</td>\n",
       "      <td>8944.11510</td>\n",
       "    </tr>\n",
       "    <tr>\n",
       "      <td>2</td>\n",
       "      <td>46.0</td>\n",
       "      <td>male</td>\n",
       "      <td>19.855</td>\n",
       "      <td>0</td>\n",
       "      <td>no</td>\n",
       "      <td>northwest</td>\n",
       "      <td>7526.70645</td>\n",
       "    </tr>\n",
       "    <tr>\n",
       "      <td>3</td>\n",
       "      <td>37.0</td>\n",
       "      <td>female</td>\n",
       "      <td>NaN</td>\n",
       "      <td>2</td>\n",
       "      <td>no</td>\n",
       "      <td>southwest</td>\n",
       "      <td>6311.95200</td>\n",
       "    </tr>\n",
       "    <tr>\n",
       "      <td>4</td>\n",
       "      <td>62.0</td>\n",
       "      <td>female</td>\n",
       "      <td>29.920</td>\n",
       "      <td>0</td>\n",
       "      <td>no</td>\n",
       "      <td>southeast</td>\n",
       "      <td>13457.96080</td>\n",
       "    </tr>\n",
       "  </tbody>\n",
       "</table>\n",
       "</div>"
      ],
      "text/plain": [
       "    age     sex     bmi  children smoker     region      charges\n",
       "0  52.0  female  24.130         1    yes  northwest  23887.66270\n",
       "1  46.0    male  43.890         3     no  southeast   8944.11510\n",
       "2  46.0    male  19.855         0     no  northwest   7526.70645\n",
       "3  37.0  female     NaN         2     no  southwest   6311.95200\n",
       "4  62.0  female  29.920         0     no  southeast  13457.96080"
      ]
     },
     "execution_count": 3,
     "metadata": {},
     "output_type": "execute_result"
    }
   ],
   "source": [
    "insurance.head()"
   ]
  },
  {
   "cell_type": "markdown",
   "metadata": {},
   "source": [
    "After reading in the data, our first task is to deal with string variables. We define a function to deal with the region variable, and use the get_dummies method to automatically deal with the sex and smoker variables."
   ]
  },
  {
   "cell_type": "code",
   "execution_count": 4,
   "metadata": {},
   "outputs": [],
   "source": [
    "def func(x):\n",
    "    if x == \"northwest\":\n",
    "        return 0\n",
    "    elif x == \"northeast\":\n",
    "        return 1\n",
    "    elif x == \"southwest\":\n",
    "        return 2\n",
    "    else:\n",
    "        return 3"
   ]
  },
  {
   "cell_type": "code",
   "execution_count": 5,
   "metadata": {},
   "outputs": [],
   "source": [
    "insurance_new=pd.get_dummies(insurance,columns=['sex','smoker'],drop_first=True)\n",
    "insurance_new['region'] = insurance_new['region'].apply(func)"
   ]
  },
  {
   "cell_type": "code",
   "execution_count": 13,
   "metadata": {},
   "outputs": [
    {
     "data": {
      "text/html": [
       "<div>\n",
       "<style scoped>\n",
       "    .dataframe tbody tr th:only-of-type {\n",
       "        vertical-align: middle;\n",
       "    }\n",
       "\n",
       "    .dataframe tbody tr th {\n",
       "        vertical-align: top;\n",
       "    }\n",
       "\n",
       "    .dataframe thead th {\n",
       "        text-align: right;\n",
       "    }\n",
       "</style>\n",
       "<table border=\"1\" class=\"dataframe\">\n",
       "  <thead>\n",
       "    <tr style=\"text-align: right;\">\n",
       "      <th></th>\n",
       "      <th>age</th>\n",
       "      <th>bmi</th>\n",
       "      <th>children</th>\n",
       "      <th>region</th>\n",
       "      <th>charges</th>\n",
       "      <th>sex_male</th>\n",
       "      <th>smoker_yes</th>\n",
       "    </tr>\n",
       "  </thead>\n",
       "  <tbody>\n",
       "    <tr>\n",
       "      <td>0</td>\n",
       "      <td>52.0</td>\n",
       "      <td>24.130</td>\n",
       "      <td>1</td>\n",
       "      <td>0</td>\n",
       "      <td>23887.66270</td>\n",
       "      <td>0</td>\n",
       "      <td>1</td>\n",
       "    </tr>\n",
       "    <tr>\n",
       "      <td>1</td>\n",
       "      <td>46.0</td>\n",
       "      <td>43.890</td>\n",
       "      <td>3</td>\n",
       "      <td>3</td>\n",
       "      <td>8944.11510</td>\n",
       "      <td>1</td>\n",
       "      <td>0</td>\n",
       "    </tr>\n",
       "    <tr>\n",
       "      <td>2</td>\n",
       "      <td>46.0</td>\n",
       "      <td>19.855</td>\n",
       "      <td>0</td>\n",
       "      <td>0</td>\n",
       "      <td>7526.70645</td>\n",
       "      <td>1</td>\n",
       "      <td>0</td>\n",
       "    </tr>\n",
       "    <tr>\n",
       "      <td>3</td>\n",
       "      <td>37.0</td>\n",
       "      <td>NaN</td>\n",
       "      <td>2</td>\n",
       "      <td>2</td>\n",
       "      <td>6311.95200</td>\n",
       "      <td>0</td>\n",
       "      <td>0</td>\n",
       "    </tr>\n",
       "    <tr>\n",
       "      <td>4</td>\n",
       "      <td>62.0</td>\n",
       "      <td>29.920</td>\n",
       "      <td>0</td>\n",
       "      <td>3</td>\n",
       "      <td>13457.96080</td>\n",
       "      <td>0</td>\n",
       "      <td>0</td>\n",
       "    </tr>\n",
       "    <tr>\n",
       "      <td>...</td>\n",
       "      <td>...</td>\n",
       "      <td>...</td>\n",
       "      <td>...</td>\n",
       "      <td>...</td>\n",
       "      <td>...</td>\n",
       "      <td>...</td>\n",
       "      <td>...</td>\n",
       "    </tr>\n",
       "    <tr>\n",
       "      <td>998</td>\n",
       "      <td>31.0</td>\n",
       "      <td>36.300</td>\n",
       "      <td>2</td>\n",
       "      <td>2</td>\n",
       "      <td>38711.00000</td>\n",
       "      <td>1</td>\n",
       "      <td>1</td>\n",
       "    </tr>\n",
       "    <tr>\n",
       "      <td>999</td>\n",
       "      <td>23.0</td>\n",
       "      <td>33.400</td>\n",
       "      <td>0</td>\n",
       "      <td>2</td>\n",
       "      <td>10795.93733</td>\n",
       "      <td>0</td>\n",
       "      <td>0</td>\n",
       "    </tr>\n",
       "    <tr>\n",
       "      <td>1000</td>\n",
       "      <td>28.0</td>\n",
       "      <td>28.880</td>\n",
       "      <td>1</td>\n",
       "      <td>1</td>\n",
       "      <td>4337.73520</td>\n",
       "      <td>0</td>\n",
       "      <td>0</td>\n",
       "    </tr>\n",
       "    <tr>\n",
       "      <td>1001</td>\n",
       "      <td>18.0</td>\n",
       "      <td>40.185</td>\n",
       "      <td>0</td>\n",
       "      <td>1</td>\n",
       "      <td>2217.46915</td>\n",
       "      <td>0</td>\n",
       "      <td>0</td>\n",
       "    </tr>\n",
       "    <tr>\n",
       "      <td>1002</td>\n",
       "      <td>35.0</td>\n",
       "      <td>28.025</td>\n",
       "      <td>0</td>\n",
       "      <td>0</td>\n",
       "      <td>20234.85475</td>\n",
       "      <td>0</td>\n",
       "      <td>1</td>\n",
       "    </tr>\n",
       "  </tbody>\n",
       "</table>\n",
       "<p>1003 rows × 7 columns</p>\n",
       "</div>"
      ],
      "text/plain": [
       "       age     bmi  children  region      charges  sex_male  smoker_yes\n",
       "0     52.0  24.130         1       0  23887.66270         0           1\n",
       "1     46.0  43.890         3       3   8944.11510         1           0\n",
       "2     46.0  19.855         0       0   7526.70645         1           0\n",
       "3     37.0     NaN         2       2   6311.95200         0           0\n",
       "4     62.0  29.920         0       3  13457.96080         0           0\n",
       "...    ...     ...       ...     ...          ...       ...         ...\n",
       "998   31.0  36.300         2       2  38711.00000         1           1\n",
       "999   23.0  33.400         0       2  10795.93733         0           0\n",
       "1000  28.0  28.880         1       1   4337.73520         0           0\n",
       "1001  18.0  40.185         0       1   2217.46915         0           0\n",
       "1002  35.0  28.025         0       0  20234.85475         0           1\n",
       "\n",
       "[1003 rows x 7 columns]"
      ]
     },
     "execution_count": 13,
     "metadata": {},
     "output_type": "execute_result"
    }
   ],
   "source": [
    "insurance_new"
   ]
  },
  {
   "cell_type": "markdown",
   "metadata": {},
   "source": [
    "Now we must deal with missing values. Since missing values appear to be sporadic in our data set and rarely occur accross multiple columns within the same dataset, we do not want to simply get rid of any entry with a missing value. Instead we fill them with the average column values."
   ]
  },
  {
   "cell_type": "code",
   "execution_count": 104,
   "metadata": {},
   "outputs": [],
   "source": [
    "insurance_new_fill_orig=insurance_new.fillna(insurance_new.mean())"
   ]
  },
  {
   "cell_type": "code",
   "execution_count": 105,
   "metadata": {},
   "outputs": [
    {
     "data": {
      "text/html": [
       "<div>\n",
       "<style scoped>\n",
       "    .dataframe tbody tr th:only-of-type {\n",
       "        vertical-align: middle;\n",
       "    }\n",
       "\n",
       "    .dataframe tbody tr th {\n",
       "        vertical-align: top;\n",
       "    }\n",
       "\n",
       "    .dataframe thead th {\n",
       "        text-align: right;\n",
       "    }\n",
       "</style>\n",
       "<table border=\"1\" class=\"dataframe\">\n",
       "  <thead>\n",
       "    <tr style=\"text-align: right;\">\n",
       "      <th></th>\n",
       "      <th>age</th>\n",
       "      <th>bmi</th>\n",
       "      <th>children</th>\n",
       "      <th>region</th>\n",
       "      <th>charges</th>\n",
       "      <th>sex_male</th>\n",
       "      <th>smoker_yes</th>\n",
       "    </tr>\n",
       "  </thead>\n",
       "  <tbody>\n",
       "    <tr>\n",
       "      <td>0</td>\n",
       "      <td>52.0</td>\n",
       "      <td>24.130000</td>\n",
       "      <td>1</td>\n",
       "      <td>0</td>\n",
       "      <td>23887.66270</td>\n",
       "      <td>0</td>\n",
       "      <td>1</td>\n",
       "    </tr>\n",
       "    <tr>\n",
       "      <td>1</td>\n",
       "      <td>46.0</td>\n",
       "      <td>43.890000</td>\n",
       "      <td>3</td>\n",
       "      <td>3</td>\n",
       "      <td>8944.11510</td>\n",
       "      <td>1</td>\n",
       "      <td>0</td>\n",
       "    </tr>\n",
       "    <tr>\n",
       "      <td>2</td>\n",
       "      <td>46.0</td>\n",
       "      <td>19.855000</td>\n",
       "      <td>0</td>\n",
       "      <td>0</td>\n",
       "      <td>7526.70645</td>\n",
       "      <td>1</td>\n",
       "      <td>0</td>\n",
       "    </tr>\n",
       "    <tr>\n",
       "      <td>3</td>\n",
       "      <td>37.0</td>\n",
       "      <td>30.630425</td>\n",
       "      <td>2</td>\n",
       "      <td>2</td>\n",
       "      <td>6311.95200</td>\n",
       "      <td>0</td>\n",
       "      <td>0</td>\n",
       "    </tr>\n",
       "    <tr>\n",
       "      <td>4</td>\n",
       "      <td>62.0</td>\n",
       "      <td>29.920000</td>\n",
       "      <td>0</td>\n",
       "      <td>3</td>\n",
       "      <td>13457.96080</td>\n",
       "      <td>0</td>\n",
       "      <td>0</td>\n",
       "    </tr>\n",
       "  </tbody>\n",
       "</table>\n",
       "</div>"
      ],
      "text/plain": [
       "    age        bmi  children  region      charges  sex_male  smoker_yes\n",
       "0  52.0  24.130000         1       0  23887.66270         0           1\n",
       "1  46.0  43.890000         3       3   8944.11510         1           0\n",
       "2  46.0  19.855000         0       0   7526.70645         1           0\n",
       "3  37.0  30.630425         2       2   6311.95200         0           0\n",
       "4  62.0  29.920000         0       3  13457.96080         0           0"
      ]
     },
     "execution_count": 105,
     "metadata": {},
     "output_type": "execute_result"
    }
   ],
   "source": [
    "insurance_new_fill_orig.head()"
   ]
  },
  {
   "cell_type": "markdown",
   "metadata": {},
   "source": [
    "# Data Visualization"
   ]
  },
  {
   "cell_type": "markdown",
   "metadata": {},
   "source": [
    "In order to model our data, it is first neccessary to visualize and understand it. We plot each explanatory variable against our response variable, observing weak linear relationships only with age and number of children to charges."
   ]
  },
  {
   "cell_type": "code",
   "execution_count": 67,
   "metadata": {},
   "outputs": [
    {
     "data": {
      "text/plain": [
       "<matplotlib.axes._subplots.AxesSubplot at 0x16202d86c88>"
      ]
     },
     "execution_count": 67,
     "metadata": {},
     "output_type": "execute_result"
    },
    {
     "data": {
      "image/png": "[encoded data removed]",
      "text/plain": [
       "<Figure size 432x288 with 1 Axes>"
      ]
     },
     "metadata": {
      "needs_background": "light"
     },
     "output_type": "display_data"
    },
    {
     "data": {
      "image/png": "[encoded data removed]",
      "text/plain": [
       "<Figure size 432x288 with 1 Axes>"
      ]
     },
     "metadata": {
      "needs_background": "light"
     },
     "output_type": "display_data"
    },
    {
     "data": {
      "image/png": "[encoded data removed]",
      "text/plain": [
       "<Figure size 432x288 with 1 Axes>"
      ]
     },
     "metadata": {
      "needs_background": "light"
     },
     "output_type": "display_data"
    },
    {
     "data": {
      "image/png": "[encoded data removed]",
      "text/plain": [
       "<Figure size 432x288 with 1 Axes>"
      ]
     },
     "metadata": {
      "needs_background": "light"
     },
     "output_type": "display_data"
    },
    {
     "data": {
      "image/png": "[encoded data removed]",
      "text/plain": [
       "<Figure size 432x288 with 1 Axes>"
      ]
     },
     "metadata": {
      "needs_background": "light"
     },
     "output_type": "display_data"
    },
    {
     "data": {
      "image/png": "[encoded data removed]",
      "text/plain": [
       "<Figure size 432x288 with 1 Axes>"
      ]
     },
     "metadata": {
      "needs_background": "light"
     },
     "output_type": "display_data"
    }
   ],
   "source": [
    "\n",
    "insurance_new_fill_orig.plot.scatter(x='age',y='charges')\n",
    "insurance_new_fill_orig.plot.scatter(x='bmi',y='charges')\n",
    "insurance_new_fill_orig.plot.scatter(x='children',y='charges')\n",
    "insurance_new_fill_orig.plot.scatter(x='region',y='charges')\n",
    "insurance_new_fill_orig.plot.scatter(x='smoker_yes',y='charges')\n",
    "insurance_new_fill_orig.plot.scatter(x='sex_male',y='charges')\n"
   ]
  },
  {
   "cell_type": "markdown",
   "metadata": {},
   "source": [
    "Based on the plots above, we decide to eliminate region, children, and sex as explanatory variables due to an apparent lack of linearity."
   ]
  },
  {
   "cell_type": "code",
   "execution_count": 120,
   "metadata": {},
   "outputs": [
    {
     "data": {
      "text/html": [
       "<div>\n",
       "<style scoped>\n",
       "    .dataframe tbody tr th:only-of-type {\n",
       "        vertical-align: middle;\n",
       "    }\n",
       "\n",
       "    .dataframe tbody tr th {\n",
       "        vertical-align: top;\n",
       "    }\n",
       "\n",
       "    .dataframe thead th {\n",
       "        text-align: right;\n",
       "    }\n",
       "</style>\n",
       "<table border=\"1\" class=\"dataframe\">\n",
       "  <thead>\n",
       "    <tr style=\"text-align: right;\">\n",
       "      <th></th>\n",
       "      <th>age</th>\n",
       "      <th>bmi</th>\n",
       "      <th>smoker_yes</th>\n",
       "      <th>charges</th>\n",
       "    </tr>\n",
       "  </thead>\n",
       "  <tbody>\n",
       "    <tr>\n",
       "      <td>0</td>\n",
       "      <td>52.0</td>\n",
       "      <td>24.130000</td>\n",
       "      <td>1</td>\n",
       "      <td>23887.66270</td>\n",
       "    </tr>\n",
       "    <tr>\n",
       "      <td>1</td>\n",
       "      <td>46.0</td>\n",
       "      <td>43.890000</td>\n",
       "      <td>0</td>\n",
       "      <td>8944.11510</td>\n",
       "    </tr>\n",
       "    <tr>\n",
       "      <td>2</td>\n",
       "      <td>46.0</td>\n",
       "      <td>19.855000</td>\n",
       "      <td>0</td>\n",
       "      <td>7526.70645</td>\n",
       "    </tr>\n",
       "    <tr>\n",
       "      <td>3</td>\n",
       "      <td>37.0</td>\n",
       "      <td>30.630425</td>\n",
       "      <td>0</td>\n",
       "      <td>6311.95200</td>\n",
       "    </tr>\n",
       "    <tr>\n",
       "      <td>4</td>\n",
       "      <td>62.0</td>\n",
       "      <td>29.920000</td>\n",
       "      <td>0</td>\n",
       "      <td>13457.96080</td>\n",
       "    </tr>\n",
       "    <tr>\n",
       "      <td>...</td>\n",
       "      <td>...</td>\n",
       "      <td>...</td>\n",
       "      <td>...</td>\n",
       "      <td>...</td>\n",
       "    </tr>\n",
       "    <tr>\n",
       "      <td>998</td>\n",
       "      <td>31.0</td>\n",
       "      <td>36.300000</td>\n",
       "      <td>1</td>\n",
       "      <td>38711.00000</td>\n",
       "    </tr>\n",
       "    <tr>\n",
       "      <td>999</td>\n",
       "      <td>23.0</td>\n",
       "      <td>33.400000</td>\n",
       "      <td>0</td>\n",
       "      <td>10795.93733</td>\n",
       "    </tr>\n",
       "    <tr>\n",
       "      <td>1000</td>\n",
       "      <td>28.0</td>\n",
       "      <td>28.880000</td>\n",
       "      <td>0</td>\n",
       "      <td>4337.73520</td>\n",
       "    </tr>\n",
       "    <tr>\n",
       "      <td>1001</td>\n",
       "      <td>18.0</td>\n",
       "      <td>40.185000</td>\n",
       "      <td>0</td>\n",
       "      <td>2217.46915</td>\n",
       "    </tr>\n",
       "    <tr>\n",
       "      <td>1002</td>\n",
       "      <td>35.0</td>\n",
       "      <td>28.025000</td>\n",
       "      <td>1</td>\n",
       "      <td>20234.85475</td>\n",
       "    </tr>\n",
       "  </tbody>\n",
       "</table>\n",
       "<p>1003 rows × 4 columns</p>\n",
       "</div>"
      ],
      "text/plain": [
       "       age        bmi  smoker_yes      charges\n",
       "0     52.0  24.130000           1  23887.66270\n",
       "1     46.0  43.890000           0   8944.11510\n",
       "2     46.0  19.855000           0   7526.70645\n",
       "3     37.0  30.630425           0   6311.95200\n",
       "4     62.0  29.920000           0  13457.96080\n",
       "...    ...        ...         ...          ...\n",
       "998   31.0  36.300000           1  38711.00000\n",
       "999   23.0  33.400000           0  10795.93733\n",
       "1000  28.0  28.880000           0   4337.73520\n",
       "1001  18.0  40.185000           0   2217.46915\n",
       "1002  35.0  28.025000           1  20234.85475\n",
       "\n",
       "[1003 rows x 4 columns]"
      ]
     },
     "execution_count": 120,
     "metadata": {},
     "output_type": "execute_result"
    }
   ],
   "source": [
    "insurance_new1 = insurance_new_fill_orig[['age','bmi','smoker_yes','charges']]\n",
    "insurance_new1"
   ]
  },
  {
   "cell_type": "markdown",
   "metadata": {},
   "source": [
    "# Data Normalization"
   ]
  },
  {
   "cell_type": "markdown",
   "metadata": {},
   "source": [
    "We want to scale or normalize our explanatory variables in order to more naturally compare their effects. Using built-in processes, we scale all of our explanatory variables at once."
   ]
  },
  {
   "cell_type": "code",
   "execution_count": 121,
   "metadata": {},
   "outputs": [],
   "source": [
    "X=insurance_new1.drop('charges',axis=1)\n",
    "y=insurance_new1['charges']"
   ]
  },
  {
   "cell_type": "code",
   "execution_count": 122,
   "metadata": {},
   "outputs": [
    {
     "data": {
      "text/html": [
       "<div>\n",
       "<style scoped>\n",
       "    .dataframe tbody tr th:only-of-type {\n",
       "        vertical-align: middle;\n",
       "    }\n",
       "\n",
       "    .dataframe tbody tr th {\n",
       "        vertical-align: top;\n",
       "    }\n",
       "\n",
       "    .dataframe thead th {\n",
       "        text-align: right;\n",
       "    }\n",
       "</style>\n",
       "<table border=\"1\" class=\"dataframe\">\n",
       "  <thead>\n",
       "    <tr style=\"text-align: right;\">\n",
       "      <th></th>\n",
       "      <th>age</th>\n",
       "      <th>bmi</th>\n",
       "      <th>smoker_yes</th>\n",
       "    </tr>\n",
       "  </thead>\n",
       "  <tbody>\n",
       "    <tr>\n",
       "      <td>0</td>\n",
       "      <td>52.0</td>\n",
       "      <td>24.130000</td>\n",
       "      <td>1</td>\n",
       "    </tr>\n",
       "    <tr>\n",
       "      <td>1</td>\n",
       "      <td>46.0</td>\n",
       "      <td>43.890000</td>\n",
       "      <td>0</td>\n",
       "    </tr>\n",
       "    <tr>\n",
       "      <td>2</td>\n",
       "      <td>46.0</td>\n",
       "      <td>19.855000</td>\n",
       "      <td>0</td>\n",
       "    </tr>\n",
       "    <tr>\n",
       "      <td>3</td>\n",
       "      <td>37.0</td>\n",
       "      <td>30.630425</td>\n",
       "      <td>0</td>\n",
       "    </tr>\n",
       "    <tr>\n",
       "      <td>4</td>\n",
       "      <td>62.0</td>\n",
       "      <td>29.920000</td>\n",
       "      <td>0</td>\n",
       "    </tr>\n",
       "  </tbody>\n",
       "</table>\n",
       "</div>"
      ],
      "text/plain": [
       "    age        bmi  smoker_yes\n",
       "0  52.0  24.130000           1\n",
       "1  46.0  43.890000           0\n",
       "2  46.0  19.855000           0\n",
       "3  37.0  30.630425           0\n",
       "4  62.0  29.920000           0"
      ]
     },
     "execution_count": 122,
     "metadata": {},
     "output_type": "execute_result"
    }
   ],
   "source": [
    "X.head()\n"
   ]
  },
  {
   "cell_type": "code",
   "execution_count": 123,
   "metadata": {
    "scrolled": false
   },
   "outputs": [
    {
     "data": {
      "text/plain": [
       "0    23887.66270\n",
       "1     8944.11510\n",
       "2     7526.70645\n",
       "3     6311.95200\n",
       "4    13457.96080\n",
       "Name: charges, dtype: float64"
      ]
     },
     "execution_count": 123,
     "metadata": {},
     "output_type": "execute_result"
    }
   ],
   "source": [
    "y.head()"
   ]
  },
  {
   "cell_type": "code",
   "execution_count": 124,
   "metadata": {},
   "outputs": [],
   "source": [
    "from sklearn.preprocessing import StandardScaler "
   ]
  },
  {
   "cell_type": "code",
   "execution_count": 125,
   "metadata": {},
   "outputs": [],
   "source": [
    "scaler=StandardScaler()"
   ]
  },
  {
   "cell_type": "code",
   "execution_count": 126,
   "metadata": {},
   "outputs": [],
   "source": [
    "scaled = scaler.fit_transform(X)"
   ]
  },
  {
   "cell_type": "code",
   "execution_count": 127,
   "metadata": {},
   "outputs": [],
   "source": [
    "X_sc=pd.DataFrame(scaled,columns=X.columns,index=X.index)\n"
   ]
  },
  {
   "cell_type": "code",
   "execution_count": 128,
   "metadata": {},
   "outputs": [
    {
     "data": {
      "text/html": [
       "<div>\n",
       "<style scoped>\n",
       "    .dataframe tbody tr th:only-of-type {\n",
       "        vertical-align: middle;\n",
       "    }\n",
       "\n",
       "    .dataframe tbody tr th {\n",
       "        vertical-align: top;\n",
       "    }\n",
       "\n",
       "    .dataframe thead th {\n",
       "        text-align: right;\n",
       "    }\n",
       "</style>\n",
       "<table border=\"1\" class=\"dataframe\">\n",
       "  <thead>\n",
       "    <tr style=\"text-align: right;\">\n",
       "      <th></th>\n",
       "      <th>age</th>\n",
       "      <th>bmi</th>\n",
       "      <th>smoker_yes</th>\n",
       "    </tr>\n",
       "  </thead>\n",
       "  <tbody>\n",
       "    <tr>\n",
       "      <td>0</td>\n",
       "      <td>0.967770</td>\n",
       "      <td>-1.079867e+00</td>\n",
       "      <td>1.949113</td>\n",
       "    </tr>\n",
       "    <tr>\n",
       "      <td>1</td>\n",
       "      <td>0.517557</td>\n",
       "      <td>2.202713e+00</td>\n",
       "      <td>-0.513054</td>\n",
       "    </tr>\n",
       "    <tr>\n",
       "      <td>2</td>\n",
       "      <td>0.517557</td>\n",
       "      <td>-1.790040e+00</td>\n",
       "      <td>-0.513054</td>\n",
       "    </tr>\n",
       "    <tr>\n",
       "      <td>3</td>\n",
       "      <td>-0.157763</td>\n",
       "      <td>-2.950928e-15</td>\n",
       "      <td>-0.513054</td>\n",
       "    </tr>\n",
       "    <tr>\n",
       "      <td>4</td>\n",
       "      <td>1.718125</td>\n",
       "      <td>-1.180175e-01</td>\n",
       "      <td>-0.513054</td>\n",
       "    </tr>\n",
       "  </tbody>\n",
       "</table>\n",
       "</div>"
      ],
      "text/plain": [
       "        age           bmi  smoker_yes\n",
       "0  0.967770 -1.079867e+00    1.949113\n",
       "1  0.517557  2.202713e+00   -0.513054\n",
       "2  0.517557 -1.790040e+00   -0.513054\n",
       "3 -0.157763 -2.950928e-15   -0.513054\n",
       "4  1.718125 -1.180175e-01   -0.513054"
      ]
     },
     "execution_count": 128,
     "metadata": {},
     "output_type": "execute_result"
    }
   ],
   "source": [
    "X_sc.head()"
   ]
  },
  {
   "cell_type": "markdown",
   "metadata": {},
   "source": [
    "# Model Evaluation"
   ]
  },
  {
   "cell_type": "markdown",
   "metadata": {},
   "source": [
    "Next we are tasked with fitting and evaluating models to our data. We select linear regression, knn, lasso regression, and ridge regression models as possible options. In order to train and test our model with as little bias as possible, we cross validate each model before calculating average R squared values for comparison."
   ]
  },
  {
   "cell_type": "code",
   "execution_count": 129,
   "metadata": {},
   "outputs": [],
   "source": [
    "from sklearn.model_selection import cross_validate, cross_val_score, ShuffleSplit,  KFold, \n",
    "from sklearn.linear_model import LinearRegression, Ridge, Lasso\n",
    "from sklearn.neighbors import KNeighborsRegressor"
   ]
  },
  {
   "cell_type": "code",
   "execution_count": 145,
   "metadata": {},
   "outputs": [],
   "source": [
    "lg=LinearRegression()\n",
    "knn=KNeighborsRegressor(n_neighbors=11)\n",
    "lasso=Lasso(alpha=32)\n",
    "ridge=Ridge(alpha=32)\n"
   ]
  },
  {
   "cell_type": "code",
   "execution_count": 146,
   "metadata": {},
   "outputs": [],
   "source": [
    "kf=KFold(n_splits=10,random_state=2,shuffle=True)\n",
    "ss=ShuffleSplit(n_splits=10,test_size=0.2, random_state=40)"
   ]
  },
  {
   "cell_type": "code",
   "execution_count": null,
   "metadata": {},
   "outputs": [],
   "source": [
    "recall_score(pos_label=1)"
   ]
  },
  {
   "cell_type": "code",
   "execution_count": 147,
   "metadata": {},
   "outputs": [],
   "source": [
    "cv_lg=cross_validate(lg,X_sc,y,cv=ss,scoring={'r2','neg_mean_squared_error'},return_estimator=True,return_train_score=True)\n",
    "cv_knn=cross_validate(knn,X_sc,y,cv=ss,scoring={'r2','neg_mean_squared_error'},return_estimator=True,return_train_score=True)\n",
    "\n",
    "cv_ridge=cross_validate(estimator=ridcv_lasso=cross_validate(estimator=lasso,X=X_sc,y=y,cv=kf, return_estimator=True,\n",
    "                        scoring={'r2','neg_mean_squared_error'})ge,X=X_sc,y=y,cv=kf, return_estimator=True,\n",
    "                        scoring={'r2','neg_mean_squared_error'})"
   ]
  },
  {
   "cell_type": "code",
   "execution_count": 133,
   "metadata": {},
   "outputs": [
    {
     "data": {
      "text/plain": [
       "0.7395383007243534"
      ]
     },
     "execution_count": 133,
     "metadata": {},
     "output_type": "execute_result"
    }
   ],
   "source": [
    "cv_lg['test_r2'].mean()"
   ]
  },
  {
   "cell_type": "code",
   "execution_count": 134,
   "metadata": {},
   "outputs": [
    {
     "data": {
      "text/plain": [
       "37701682.99618776"
      ]
     },
     "execution_count": 134,
     "metadata": {},
     "output_type": "execute_result"
    }
   ],
   "source": [
    "-cv_lg['test_neg_mean_squared_error'].mean()"
   ]
  },
  {
   "cell_type": "code",
   "execution_count": 148,
   "metadata": {},
   "outputs": [
    {
     "data": {
      "text/plain": [
       "0.8319945982339206"
      ]
     },
     "execution_count": 148,
     "metadata": {},
     "output_type": "execute_result"
    }
   ],
   "source": [
    "cv_knn['test_r2'].mean()"
   ]
  },
  {
   "cell_type": "code",
   "execution_count": 136,
   "metadata": {},
   "outputs": [
    {
     "data": {
      "text/plain": [
       "24701640.704080347"
      ]
     },
     "execution_count": 136,
     "metadata": {},
     "output_type": "execute_result"
    }
   ],
   "source": [
    "-cv_knn['test_neg_mean_squared_error'].mean()"
   ]
  },
  {
   "cell_type": "code",
   "execution_count": 160,
   "metadata": {},
   "outputs": [
    {
     "data": {
      "text/plain": [
       "0.7388631146796072"
      ]
     },
     "execution_count": 160,
     "metadata": {},
     "output_type": "execute_result"
    }
   ],
   "source": [
    "cv_lasso['test_r2'].mean()"
   ]
  },
  {
   "cell_type": "code",
   "execution_count": 138,
   "metadata": {},
   "outputs": [
    {
     "data": {
      "text/plain": [
       "37794407.39644979"
      ]
     },
     "execution_count": 138,
     "metadata": {},
     "output_type": "execute_result"
    }
   ],
   "source": [
    "-cv_lasso['test_neg_mean_squared_error'].mean()"
   ]
  },
  {
   "cell_type": "code",
   "execution_count": 139,
   "metadata": {},
   "outputs": [
    {
     "data": {
      "text/plain": [
       "0.7384228033657203"
      ]
     },
     "execution_count": 139,
     "metadata": {},
     "output_type": "execute_result"
    }
   ],
   "source": [
    "cv_ridge['test_r2'].mean()"
   ]
  },
  {
   "cell_type": "code",
   "execution_count": 140,
   "metadata": {},
   "outputs": [
    {
     "data": {
      "text/plain": [
       "37870614.24369868"
      ]
     },
     "execution_count": 140,
     "metadata": {},
     "output_type": "execute_result"
    }
   ],
   "source": [
    "-cv_ridge['test_neg_mean_squared_error'].mean()"
   ]
  },
  {
   "cell_type": "markdown",
   "metadata": {},
   "source": [
    "At first glance, KNN appears to be the best model, at least in terms of explaining variation. "
   ]
  },
  {
   "cell_type": "markdown",
   "metadata": {},
   "source": [
    "# Model Tuning"
   ]
  },
  {
   "cell_type": "markdown",
   "metadata": {},
   "source": [
    "In order to fit the best model possible, we want to make sure we properly assess many values of parameters in our models. We do this by looping over different amounts of 'neighbors' for the knn model and over different alpha values in our ridge and lasso regression models."
   ]
  },
  {
   "cell_type": "code",
   "execution_count": 141,
   "metadata": {},
   "outputs": [],
   "source": [
    "param_neighbors = np.arange(2,100,1)"
   ]
  },
  {
   "cell_type": "code",
   "execution_count": 142,
   "metadata": {},
   "outputs": [],
   "source": [
    "r2_knn = []\n",
    "\n",
    "for param in param_neighbors:\n",
    "    knn = KNeighborsRegressor(n_neighbors=param)\n",
    "    cv_knn=cross_validate(knn,X_sc,y,cv=ss,scoring={'r2'},return_estimator=True,return_train_score=True)\n",
    "    \n",
    "    \n",
    "    r2_knn.append(cv_knn['test_r2'].mean())\n",
    "    "
   ]
  },
  {
   "cell_type": "code",
   "execution_count": 144,
   "metadata": {
    "scrolled": true
   },
   "outputs": [
    {
     "data": {
      "text/plain": [
       "[0.7642346313949548,\n",
       " 0.7975588447403257,\n",
       " 0.8048086525879686,\n",
       " 0.8131791709163434,\n",
       " 0.8230367402091294,\n",
       " 0.8285585310612472,\n",
       " 0.8305044422443603,\n",
       " 0.8317428033719416,\n",
       " 0.8313589430695563,\n",
       " 0.8319945982339206,\n",
       " 0.8310748099016351,\n",
       " 0.8305582236991602,\n",
       " 0.8302447597469854,\n",
       " 0.8298275325992492,\n",
       " 0.8299887521096523,\n",
       " 0.8297367697102531,\n",
       " 0.8289780779505721,\n",
       " 0.828973604413188,\n",
       " 0.8299256050971333,\n",
       " 0.8300496656400345,\n",
       " 0.8294607403601824,\n",
       " 0.8291473000498704,\n",
       " 0.8296252896452163,\n",
       " 0.829675908064547,\n",
       " 0.8300178877661842,\n",
       " 0.8291618758399808,\n",
       " 0.829721364093533,\n",
       " 0.8289045256021004,\n",
       " 0.829030247327162,\n",
       " 0.8282734135301011,\n",
       " 0.8282209959513926,\n",
       " 0.828406572187925,\n",
       " 0.8282751969779479,\n",
       " 0.8282237693043797,\n",
       " 0.8278763744719727,\n",
       " 0.8270197779110247,\n",
       " 0.8264801717176354,\n",
       " 0.8258224891690891,\n",
       " 0.825469729951608,\n",
       " 0.8249044219010596,\n",
       " 0.8244265581955721,\n",
       " 0.8243506642962336,\n",
       " 0.8238800184052719,\n",
       " 0.8233711006123844,\n",
       " 0.822669814174715,\n",
       " 0.821745042605307,\n",
       " 0.8210651200888041,\n",
       " 0.8200999073446642,\n",
       " 0.8193098210854559,\n",
       " 0.8186263037225402,\n",
       " 0.8179584230761712,\n",
       " 0.8171795943375768,\n",
       " 0.8162498782573359,\n",
       " 0.8152340949991806,\n",
       " 0.8146863286685665,\n",
       " 0.81377253150238,\n",
       " 0.8129830800669426,\n",
       " 0.8122720658118017,\n",
       " 0.8113589091931086,\n",
       " 0.8105268452044788,\n",
       " 0.8096208439301072,\n",
       " 0.8085156821277252,\n",
       " 0.8075853631475358,\n",
       " 0.8065678128400091,\n",
       " 0.805586222678149,\n",
       " 0.8050090046413617,\n",
       " 0.8040715377114729,\n",
       " 0.8035405062799432,\n",
       " 0.8026868187378108,\n",
       " 0.8018336181869149,\n",
       " 0.8008893484396211,\n",
       " 0.7998986464460438,\n",
       " 0.7992592309105613,\n",
       " 0.7981082453349421,\n",
       " 0.7974238857104232,\n",
       " 0.7964422042007928,\n",
       " 0.795388067327408,\n",
       " 0.794402510974866,\n",
       " 0.7934974329377482,\n",
       " 0.7925952206904567,\n",
       " 0.7915740238159463,\n",
       " 0.7904623794618334,\n",
       " 0.789200638421914,\n",
       " 0.7884592380615982,\n",
       " 0.7873466617650161,\n",
       " 0.7862578223925648,\n",
       " 0.7852015581014304,\n",
       " 0.7838364221623795,\n",
       " 0.7827950466129152,\n",
       " 0.7820459822541055,\n",
       " 0.7809529390816385,\n",
       " 0.7798294678961982,\n",
       " 0.77887685105529,\n",
       " 0.7777081855395835,\n",
       " 0.7764702406882138,\n",
       " 0.7751568789361363,\n",
       " 0.7741873312226327,\n",
       " 0.7730560578759357]"
      ]
     },
     "execution_count": 144,
     "metadata": {},
     "output_type": "execute_result"
    }
   ],
   "source": [
    "r2_knn"
   ]
  },
  {
   "cell_type": "code",
   "execution_count": 143,
   "metadata": {},
   "outputs": [
    {
     "data": {
      "image/png": "[encoded data removed]",
      "text/plain": [
       "<Figure size 576x432 with 1 Axes>"
      ]
     },
     "metadata": {},
     "output_type": "display_data"
    }
   ],
   "source": [
    "sns.set_style('whitegrid')\n",
    "fig=plt.figure(figsize=(8,6))\n",
    "\n",
    "axes=fig.add_axes([0,0,1,1])\n",
    "\n",
    "axes.plot(param_neighbors,r2_knn, linestyle='-.',lw=1.5,label='KNN')\n",
    "\n",
    "\n",
    "axes.set_xlabel(\"K\",fontsize=14)\n",
    "axes.set_ylabel(\"Mean R2 Score from CV\",fontsize=14)\n",
    "\n",
    "plt.legend(fontsize=12)\n",
    "plt.show()"
   ]
  },
  {
   "cell_type": "markdown",
   "metadata": {},
   "source": [
    "The greatest R squared value occurs at k=11 neighbors for the KNN model, with a general decreasing trend thereafter."
   ]
  },
  {
   "cell_type": "code",
   "execution_count": 174,
   "metadata": {},
   "outputs": [],
   "source": [
    "param_alpha = np.arange(0.001,50,0.5)"
   ]
  },
  {
   "cell_type": "code",
   "execution_count": 175,
   "metadata": {},
   "outputs": [],
   "source": [
    "r2_lasso,r2_ridge = [],[]\n",
    "\n",
    "for param in param_alpha:\n",
    "    lasso = Lasso(alpha=param)\n",
    "    ridge = Ridge(alpha = param)\n",
    "    \n",
    "    cv_lasso=cross_validate(estimator=lasso,X=X_sc,y=y,cv=kf, return_estimator=True,\n",
    "                        scoring={'r2'})\n",
    "    cv_ridge=cross_validate(estimator=ridge,X=X_sc,y=y,cv=kf, return_estimator=True,\n",
    "                        scoring={'r2'})\n",
    "   \n",
    "    \n",
    "    r2_lasso.append(cv_lasso['test_r2'].mean())\n",
    "    r2_ridge.append(cv_lasso['test_r2'].mean())"
   ]
  },
  {
   "cell_type": "code",
   "execution_count": 180,
   "metadata": {
    "scrolled": true
   },
   "outputs": [
    {
     "data": {
      "text/plain": [
       "[0.7388545380261564,\n",
       " 0.738855109186751,\n",
       " 0.7388556739564095,\n",
       " 0.7388562287656357,\n",
       " 0.7388567736144303,\n",
       " 0.7388573085027923,\n",
       " 0.7388578334307226,\n",
       " 0.7388583483982206,\n",
       " 0.7388588534052867,\n",
       " 0.7388593484519206,\n",
       " 0.7388598335381225,\n",
       " 0.7388603086638922,\n",
       " 0.7388607738292298,\n",
       " 0.7388612290341354,\n",
       " 0.7388616742786089,\n",
       " 0.7388621095626504,\n",
       " 0.7388625348862597,\n",
       " 0.738862950249437,\n",
       " 0.7388633556521822,\n",
       " 0.7388637510944954,\n",
       " 0.7388641365763765,\n",
       " 0.7388645120978254,\n",
       " 0.7388648776588422,\n",
       " 0.7388652332594271,\n",
       " 0.7388655788995797,\n",
       " 0.7388659145793003,\n",
       " 0.738866240298589,\n",
       " 0.7388665560574454,\n",
       " 0.7388668618558698,\n",
       " 0.7388671576938621,\n",
       " 0.7388674435714224,\n",
       " 0.7388677194885507,\n",
       " 0.7388679854452467,\n",
       " 0.7388682414415106,\n",
       " 0.7388684874773427,\n",
       " 0.7388687235527426,\n",
       " 0.7388689496677103,\n",
       " 0.7388691658222459,\n",
       " 0.7388693720163497,\n",
       " 0.7388695682500211,\n",
       " 0.7388697545232605,\n",
       " 0.7388699308360679,\n",
       " 0.7388700971884432,\n",
       " 0.7388702535803864,\n",
       " 0.7388704000118975,\n",
       " 0.7388705364829767,\n",
       " 0.7388706629936235,\n",
       " 0.7388707795438385,\n",
       " 0.7388708861336213,\n",
       " 0.738870982762972,\n",
       " 0.7388710694318906,\n",
       " 0.7388711461403772,\n",
       " 0.7388712128884317,\n",
       " 0.7388712696760541,\n",
       " 0.7388713165032444,\n",
       " 0.7388713533700028,\n",
       " 0.7388713802763289,\n",
       " 0.738871397222223,\n",
       " 0.7388714042076849,\n",
       " 0.738871401232715,\n",
       " 0.7388713882973129,\n",
       " 0.7388713654014787,\n",
       " 0.7388713325452124,\n",
       " 0.7388712897285139,\n",
       " 0.7388712369513835,\n",
       " 0.738871174213821,\n",
       " 0.7388711015158262,\n",
       " 0.7388710188573996,\n",
       " 0.7388709262385409,\n",
       " 0.7388708236592499,\n",
       " 0.738870711119527,\n",
       " 0.7388705886193719,\n",
       " 0.7388704561587849,\n",
       " 0.7388703137377657,\n",
       " 0.7388701613563144,\n",
       " 0.7388699990144312,\n",
       " 0.7388698267121157,\n",
       " 0.7388696444493681,\n",
       " 0.7388694522261887,\n",
       " 0.7388692500425769,\n",
       " 0.7388690378985332,\n",
       " 0.7388688157940575,\n",
       " 0.7388685837291494,\n",
       " 0.7388683417038096,\n",
       " 0.7388680897180373,\n",
       " 0.7388678277718332,\n",
       " 0.738867555865197,\n",
       " 0.7388672739981288,\n",
       " 0.7388669821706284,\n",
       " 0.738866680382696,\n",
       " 0.7388663686343314,\n",
       " 0.7388660469255348,\n",
       " 0.7388657152563061,\n",
       " 0.7388653736266453,\n",
       " 0.7388650220365526,\n",
       " 0.7388646604860277,\n",
       " 0.7388642889750706,\n",
       " 0.7388639075036816,\n",
       " 0.7388635160718604,\n",
       " 0.7388631146796072]"
      ]
     },
     "execution_count": 180,
     "metadata": {},
     "output_type": "execute_result"
    }
   ],
   "source": [
    "r2_lasso"
   ]
  },
  {
   "cell_type": "code",
   "execution_count": 181,
   "metadata": {
    "scrolled": true
   },
   "outputs": [
    {
     "data": {
      "text/plain": [
       "[0.7388545380261564,\n",
       " 0.738855109186751,\n",
       " 0.7388556739564095,\n",
       " 0.7388562287656357,\n",
       " 0.7388567736144303,\n",
       " 0.7388573085027923,\n",
       " 0.7388578334307226,\n",
       " 0.7388583483982206,\n",
       " 0.7388588534052867,\n",
       " 0.7388593484519206,\n",
       " 0.7388598335381225,\n",
       " 0.7388603086638922,\n",
       " 0.7388607738292298,\n",
       " 0.7388612290341354,\n",
       " 0.7388616742786089,\n",
       " 0.7388621095626504,\n",
       " 0.7388625348862597,\n",
       " 0.738862950249437,\n",
       " 0.7388633556521822,\n",
       " 0.7388637510944954,\n",
       " 0.7388641365763765,\n",
       " 0.7388645120978254,\n",
       " 0.7388648776588422,\n",
       " 0.7388652332594271,\n",
       " 0.7388655788995797,\n",
       " 0.7388659145793003,\n",
       " 0.738866240298589,\n",
       " 0.7388665560574454,\n",
       " 0.7388668618558698,\n",
       " 0.7388671576938621,\n",
       " 0.7388674435714224,\n",
       " 0.7388677194885507,\n",
       " 0.7388679854452467,\n",
       " 0.7388682414415106,\n",
       " 0.7388684874773427,\n",
       " 0.7388687235527426,\n",
       " 0.7388689496677103,\n",
       " 0.7388691658222459,\n",
       " 0.7388693720163497,\n",
       " 0.7388695682500211,\n",
       " 0.7388697545232605,\n",
       " 0.7388699308360679,\n",
       " 0.7388700971884432,\n",
       " 0.7388702535803864,\n",
       " 0.7388704000118975,\n",
       " 0.7388705364829767,\n",
       " 0.7388706629936235,\n",
       " 0.7388707795438385,\n",
       " 0.7388708861336213,\n",
       " 0.738870982762972,\n",
       " 0.7388710694318906,\n",
       " 0.7388711461403772,\n",
       " 0.7388712128884317,\n",
       " 0.7388712696760541,\n",
       " 0.7388713165032444,\n",
       " 0.7388713533700028,\n",
       " 0.7388713802763289,\n",
       " 0.738871397222223,\n",
       " 0.7388714042076849,\n",
       " 0.738871401232715,\n",
       " 0.7388713882973129,\n",
       " 0.7388713654014787,\n",
       " 0.7388713325452124,\n",
       " 0.7388712897285139,\n",
       " 0.7388712369513835,\n",
       " 0.738871174213821,\n",
       " 0.7388711015158262,\n",
       " 0.7388710188573996,\n",
       " 0.7388709262385409,\n",
       " 0.7388708236592499,\n",
       " 0.738870711119527,\n",
       " 0.7388705886193719,\n",
       " 0.7388704561587849,\n",
       " 0.7388703137377657,\n",
       " 0.7388701613563144,\n",
       " 0.7388699990144312,\n",
       " 0.7388698267121157,\n",
       " 0.7388696444493681,\n",
       " 0.7388694522261887,\n",
       " 0.7388692500425769,\n",
       " 0.7388690378985332,\n",
       " 0.7388688157940575,\n",
       " 0.7388685837291494,\n",
       " 0.7388683417038096,\n",
       " 0.7388680897180373,\n",
       " 0.7388678277718332,\n",
       " 0.738867555865197,\n",
       " 0.7388672739981288,\n",
       " 0.7388669821706284,\n",
       " 0.738866680382696,\n",
       " 0.7388663686343314,\n",
       " 0.7388660469255348,\n",
       " 0.7388657152563061,\n",
       " 0.7388653736266453,\n",
       " 0.7388650220365526,\n",
       " 0.7388646604860277,\n",
       " 0.7388642889750706,\n",
       " 0.7388639075036816,\n",
       " 0.7388635160718604,\n",
       " 0.7388631146796072]"
      ]
     },
     "execution_count": 181,
     "metadata": {},
     "output_type": "execute_result"
    }
   ],
   "source": [
    "r2_ridge"
   ]
  },
  {
   "cell_type": "code",
   "execution_count": 182,
   "metadata": {},
   "outputs": [
    {
     "data": {
      "image/png": "[encoded data removed]",
      "text/plain": [
       "<Figure size 576x432 with 1 Axes>"
      ]
     },
     "metadata": {},
     "output_type": "display_data"
    }
   ],
   "source": [
    "sns.set_style('whitegrid')\n",
    "fig=plt.figure(figsize=(8,6))\n",
    "\n",
    "axes=fig.add_axes([0,0,1,1])\n",
    "\n",
    "axes.plot(param_alpha,r2_lasso, linestyle='-.',lw=1.5,label='Lasso')\n",
    "axes.plot(param_alpha,r2_ridge, linestyle='-.',lw=1.5,label='Ridge')\n",
    "\n",
    "\n",
    "axes.set_xlabel(\"Alpha\",fontsize=14)\n",
    "axes.set_ylabel(\"Mean R2 Score from CV\",fontsize=14)\n",
    "\n",
    "plt.legend(fontsize=12)\n",
    "plt.show()"
   ]
  },
  {
   "cell_type": "markdown",
   "metadata": {},
   "source": [
    "For both the ridge and lasso regression models,we see a general increasing trend in R squared as alpha increases until it reaches a peak at about 28. Howver, none of these R squared values are competitive with that of the KNN model. "
   ]
  },
  {
   "cell_type": "code",
   "execution_count": 56,
   "metadata": {
    "scrolled": true
   },
   "outputs": [
    {
     "data": {
      "text/html": [
       "<div>\n",
       "<style scoped>\n",
       "    .dataframe tbody tr th:only-of-type {\n",
       "        vertical-align: middle;\n",
       "    }\n",
       "\n",
       "    .dataframe tbody tr th {\n",
       "        vertical-align: top;\n",
       "    }\n",
       "\n",
       "    .dataframe thead th {\n",
       "        text-align: right;\n",
       "    }\n",
       "</style>\n",
       "<table border=\"1\" class=\"dataframe\">\n",
       "  <thead>\n",
       "    <tr style=\"text-align: right;\">\n",
       "      <th></th>\n",
       "      <th>Lasso</th>\n",
       "    </tr>\n",
       "  </thead>\n",
       "  <tbody>\n",
       "    <tr>\n",
       "      <td>age</td>\n",
       "      <td>3413.719028</td>\n",
       "    </tr>\n",
       "    <tr>\n",
       "      <td>bmi</td>\n",
       "      <td>2236.362422</td>\n",
       "    </tr>\n",
       "    <tr>\n",
       "      <td>children</td>\n",
       "      <td>661.287356</td>\n",
       "    </tr>\n",
       "    <tr>\n",
       "      <td>region</td>\n",
       "      <td>-468.929452</td>\n",
       "    </tr>\n",
       "    <tr>\n",
       "      <td>sex_male</td>\n",
       "      <td>-38.548616</td>\n",
       "    </tr>\n",
       "    <tr>\n",
       "      <td>smoker_yes</td>\n",
       "      <td>9839.628677</td>\n",
       "    </tr>\n",
       "  </tbody>\n",
       "</table>\n",
       "</div>"
      ],
      "text/plain": [
       "                  Lasso\n",
       "age         3413.719028\n",
       "bmi         2236.362422\n",
       "children     661.287356\n",
       "region      -468.929452\n",
       "sex_male     -38.548616\n",
       "smoker_yes  9839.628677"
      ]
     },
     "execution_count": 56,
     "metadata": {},
     "output_type": "execute_result"
    }
   ],
   "source": [
    "df_lasso=pd.DataFrame(cv_lasso['estimator'][3].coef_,index=X.columns,columns=['Lasso'])\n",
    "df_lasso"
   ]
  },
  {
   "cell_type": "code",
   "execution_count": 57,
   "metadata": {},
   "outputs": [
    {
     "data": {
      "text/html": [
       "<div>\n",
       "<style scoped>\n",
       "    .dataframe tbody tr th:only-of-type {\n",
       "        vertical-align: middle;\n",
       "    }\n",
       "\n",
       "    .dataframe tbody tr th {\n",
       "        vertical-align: top;\n",
       "    }\n",
       "\n",
       "    .dataframe thead th {\n",
       "        text-align: right;\n",
       "    }\n",
       "</style>\n",
       "<table border=\"1\" class=\"dataframe\">\n",
       "  <thead>\n",
       "    <tr style=\"text-align: right;\">\n",
       "      <th></th>\n",
       "      <th>Ridge</th>\n",
       "    </tr>\n",
       "  </thead>\n",
       "  <tbody>\n",
       "    <tr>\n",
       "      <td>age</td>\n",
       "      <td>3381.670703</td>\n",
       "    </tr>\n",
       "    <tr>\n",
       "      <td>bmi</td>\n",
       "      <td>2225.992997</td>\n",
       "    </tr>\n",
       "    <tr>\n",
       "      <td>children</td>\n",
       "      <td>665.445693</td>\n",
       "    </tr>\n",
       "    <tr>\n",
       "      <td>region</td>\n",
       "      <td>-464.403419</td>\n",
       "    </tr>\n",
       "    <tr>\n",
       "      <td>sex_male</td>\n",
       "      <td>-39.967881</td>\n",
       "    </tr>\n",
       "    <tr>\n",
       "      <td>smoker_yes</td>\n",
       "      <td>9740.653289</td>\n",
       "    </tr>\n",
       "  </tbody>\n",
       "</table>\n",
       "</div>"
      ],
      "text/plain": [
       "                  Ridge\n",
       "age         3381.670703\n",
       "bmi         2225.992997\n",
       "children     665.445693\n",
       "region      -464.403419\n",
       "sex_male     -39.967881\n",
       "smoker_yes  9740.653289"
      ]
     },
     "execution_count": 57,
     "metadata": {},
     "output_type": "execute_result"
    }
   ],
   "source": [
    "df_ridge=pd.DataFrame(cv_ridge['estimator'][3].coef_,index=X.columns,columns=['Ridge'])\n",
    "df_ridge"
   ]
  },
  {
   "cell_type": "markdown",
   "metadata": {},
   "source": [
    "Observing the coefficients for the lasso and ridge regression models reveals they are extremely similar."
   ]
  },
  {
   "cell_type": "markdown",
   "metadata": {},
   "source": [
    "# Model Selection"
   ]
  },
  {
   "cell_type": "markdown",
   "metadata": {},
   "source": [
    "After tuning our models, the result remains the same: KNN is the best model in terms of having the highest R squared value and the lowest MSE. We thus select a KNN(k=11) model to fit our test set to."
   ]
  },
  {
   "cell_type": "markdown",
   "metadata": {},
   "source": [
    "To get a sense of the variation in our model, we can observe how our predictions in the training set are distributed against the response variable charges. We see a mostly normal distribution, though with a tail towards the right in charges. This implies a model with some variability, but does not tell us too much about the model performance overall because it is the training set data which our model has already seen. Our R squared 0f 0.83 along with this distribution of residuals imply a decent prediction power, but again we cannot know for sure until we conduct the same analysis of residuals and R squared with our Test set. "
   ]
  },
  {
   "cell_type": "code",
   "execution_count": 161,
   "metadata": {},
   "outputs": [
    {
     "data": {
      "text/plain": [
       "<matplotlib.axes._subplots.AxesSubplot at 0x16200156e48>"
      ]
     },
     "execution_count": 161,
     "metadata": {},
     "output_type": "execute_result"
    },
    {
     "data": {
      "image/png": "[encoded data removed]",
      "text/plain": [
       "<Figure size 576x432 with 1 Axes>"
      ]
     },
     "metadata": {},
     "output_type": "display_data"
    }
   ],
   "source": [
    "knn.fit(X_sc,y)\n",
    "knn_pred=knn.predict(X_sc)\n",
    "plt.figure(figsize=(8,6))\n",
    "sns.distplot((y-knn_pred), bins=25)"
   ]
  },
  {
   "cell_type": "markdown",
   "metadata": {},
   "source": [
    "# Test Set Prediction"
   ]
  },
  {
   "cell_type": "markdown",
   "metadata": {},
   "source": [
    "Now that we have selected a model, it is neccessary to test it on a set of data the model has never seen before. We do this by reading in the separate test set, wrangling it into the same format as our other data, fitting our selected model to our initial data, and then finally making predictions for the new data points based on this model fit. We then export our results into an excel file. "
   ]
  },
  {
   "cell_type": "code",
   "execution_count": 162,
   "metadata": {},
   "outputs": [],
   "source": [
    "insurance_test=pd.read_excel('insurance_test.xlsx')"
   ]
  },
  {
   "cell_type": "code",
   "execution_count": 163,
   "metadata": {},
   "outputs": [
    {
     "data": {
      "text/html": [
       "<div>\n",
       "<style scoped>\n",
       "    .dataframe tbody tr th:only-of-type {\n",
       "        vertical-align: middle;\n",
       "    }\n",
       "\n",
       "    .dataframe tbody tr th {\n",
       "        vertical-align: top;\n",
       "    }\n",
       "\n",
       "    .dataframe thead th {\n",
       "        text-align: right;\n",
       "    }\n",
       "</style>\n",
       "<table border=\"1\" class=\"dataframe\">\n",
       "  <thead>\n",
       "    <tr style=\"text-align: right;\">\n",
       "      <th></th>\n",
       "      <th>age</th>\n",
       "      <th>bmi</th>\n",
       "      <th>smoker_yes</th>\n",
       "    </tr>\n",
       "  </thead>\n",
       "  <tbody>\n",
       "    <tr>\n",
       "      <td>0</td>\n",
       "      <td>59</td>\n",
       "      <td>26.400</td>\n",
       "      <td>0</td>\n",
       "    </tr>\n",
       "    <tr>\n",
       "      <td>1</td>\n",
       "      <td>59</td>\n",
       "      <td>31.350</td>\n",
       "      <td>0</td>\n",
       "    </tr>\n",
       "    <tr>\n",
       "      <td>2</td>\n",
       "      <td>52</td>\n",
       "      <td>37.400</td>\n",
       "      <td>0</td>\n",
       "    </tr>\n",
       "    <tr>\n",
       "      <td>3</td>\n",
       "      <td>46</td>\n",
       "      <td>33.345</td>\n",
       "      <td>0</td>\n",
       "    </tr>\n",
       "    <tr>\n",
       "      <td>4</td>\n",
       "      <td>19</td>\n",
       "      <td>28.900</td>\n",
       "      <td>0</td>\n",
       "    </tr>\n",
       "    <tr>\n",
       "      <td>...</td>\n",
       "      <td>...</td>\n",
       "      <td>...</td>\n",
       "      <td>...</td>\n",
       "    </tr>\n",
       "    <tr>\n",
       "      <td>330</td>\n",
       "      <td>64</td>\n",
       "      <td>22.990</td>\n",
       "      <td>1</td>\n",
       "    </tr>\n",
       "    <tr>\n",
       "      <td>331</td>\n",
       "      <td>19</td>\n",
       "      <td>30.590</td>\n",
       "      <td>0</td>\n",
       "    </tr>\n",
       "    <tr>\n",
       "      <td>332</td>\n",
       "      <td>61</td>\n",
       "      <td>38.380</td>\n",
       "      <td>0</td>\n",
       "    </tr>\n",
       "    <tr>\n",
       "      <td>333</td>\n",
       "      <td>29</td>\n",
       "      <td>21.850</td>\n",
       "      <td>1</td>\n",
       "    </tr>\n",
       "    <tr>\n",
       "      <td>334</td>\n",
       "      <td>24</td>\n",
       "      <td>27.600</td>\n",
       "      <td>0</td>\n",
       "    </tr>\n",
       "  </tbody>\n",
       "</table>\n",
       "<p>335 rows × 3 columns</p>\n",
       "</div>"
      ],
      "text/plain": [
       "     age     bmi  smoker_yes\n",
       "0     59  26.400           0\n",
       "1     59  31.350           0\n",
       "2     52  37.400           0\n",
       "3     46  33.345           0\n",
       "4     19  28.900           0\n",
       "..   ...     ...         ...\n",
       "330   64  22.990           1\n",
       "331   19  30.590           0\n",
       "332   61  38.380           0\n",
       "333   29  21.850           1\n",
       "334   24  27.600           0\n",
       "\n",
       "[335 rows x 3 columns]"
      ]
     },
     "execution_count": 163,
     "metadata": {},
     "output_type": "execute_result"
    }
   ],
   "source": [
    "insurance_test_new=pd.get_dummies(insurance_test,columns=['sex','smoker'],drop_first=True)\n",
    "\n",
    "insurance_test_new['region'] = insurance_test_new['region'].apply(func)\n",
    "insurance_test_new1 = insurance_test_new[['age','bmi','smoker_yes']]\n",
    "insurance_test_new1"
   ]
  },
  {
   "cell_type": "code",
   "execution_count": 164,
   "metadata": {},
   "outputs": [],
   "source": [
    "scaledTest = scaler.fit_transform(insurance_test_new1)"
   ]
  },
  {
   "cell_type": "code",
   "execution_count": 165,
   "metadata": {},
   "outputs": [],
   "source": [
    "X_test_sc=pd.DataFrame(scaledTest,columns=insurance_test_new1.columns,index=insurance_test_new1.index)"
   ]
  },
  {
   "cell_type": "code",
   "execution_count": 166,
   "metadata": {},
   "outputs": [
    {
     "data": {
      "text/html": [
       "<div>\n",
       "<style scoped>\n",
       "    .dataframe tbody tr th:only-of-type {\n",
       "        vertical-align: middle;\n",
       "    }\n",
       "\n",
       "    .dataframe tbody tr th {\n",
       "        vertical-align: top;\n",
       "    }\n",
       "\n",
       "    .dataframe thead th {\n",
       "        text-align: right;\n",
       "    }\n",
       "</style>\n",
       "<table border=\"1\" class=\"dataframe\">\n",
       "  <thead>\n",
       "    <tr style=\"text-align: right;\">\n",
       "      <th></th>\n",
       "      <th>age</th>\n",
       "      <th>bmi</th>\n",
       "      <th>smoker_yes</th>\n",
       "    </tr>\n",
       "  </thead>\n",
       "  <tbody>\n",
       "    <tr>\n",
       "      <td>0</td>\n",
       "      <td>1.398014</td>\n",
       "      <td>-0.708632</td>\n",
       "      <td>-0.490653</td>\n",
       "    </tr>\n",
       "    <tr>\n",
       "      <td>1</td>\n",
       "      <td>1.398014</td>\n",
       "      <td>0.132908</td>\n",
       "      <td>-0.490653</td>\n",
       "    </tr>\n",
       "    <tr>\n",
       "      <td>2</td>\n",
       "      <td>0.897885</td>\n",
       "      <td>1.161458</td>\n",
       "      <td>-0.490653</td>\n",
       "    </tr>\n",
       "    <tr>\n",
       "      <td>3</td>\n",
       "      <td>0.469204</td>\n",
       "      <td>0.472075</td>\n",
       "      <td>-0.490653</td>\n",
       "    </tr>\n",
       "    <tr>\n",
       "      <td>4</td>\n",
       "      <td>-1.459864</td>\n",
       "      <td>-0.283612</td>\n",
       "      <td>-0.490653</td>\n",
       "    </tr>\n",
       "    <tr>\n",
       "      <td>...</td>\n",
       "      <td>...</td>\n",
       "      <td>...</td>\n",
       "      <td>...</td>\n",
       "    </tr>\n",
       "    <tr>\n",
       "      <td>330</td>\n",
       "      <td>1.755249</td>\n",
       "      <td>-1.288360</td>\n",
       "      <td>2.038099</td>\n",
       "    </tr>\n",
       "    <tr>\n",
       "      <td>331</td>\n",
       "      <td>-1.459864</td>\n",
       "      <td>0.003702</td>\n",
       "      <td>-0.490653</td>\n",
       "    </tr>\n",
       "    <tr>\n",
       "      <td>332</td>\n",
       "      <td>1.540908</td>\n",
       "      <td>1.328066</td>\n",
       "      <td>-0.490653</td>\n",
       "    </tr>\n",
       "    <tr>\n",
       "      <td>333</td>\n",
       "      <td>-0.745394</td>\n",
       "      <td>-1.482169</td>\n",
       "      <td>2.038099</td>\n",
       "    </tr>\n",
       "    <tr>\n",
       "      <td>334</td>\n",
       "      <td>-1.102629</td>\n",
       "      <td>-0.504622</td>\n",
       "      <td>-0.490653</td>\n",
       "    </tr>\n",
       "  </tbody>\n",
       "</table>\n",
       "<p>335 rows × 3 columns</p>\n",
       "</div>"
      ],
      "text/plain": [
       "          age       bmi  smoker_yes\n",
       "0    1.398014 -0.708632   -0.490653\n",
       "1    1.398014  0.132908   -0.490653\n",
       "2    0.897885  1.161458   -0.490653\n",
       "3    0.469204  0.472075   -0.490653\n",
       "4   -1.459864 -0.283612   -0.490653\n",
       "..        ...       ...         ...\n",
       "330  1.755249 -1.288360    2.038099\n",
       "331 -1.459864  0.003702   -0.490653\n",
       "332  1.540908  1.328066   -0.490653\n",
       "333 -0.745394 -1.482169    2.038099\n",
       "334 -1.102629 -0.504622   -0.490653\n",
       "\n",
       "[335 rows x 3 columns]"
      ]
     },
     "execution_count": 166,
     "metadata": {},
     "output_type": "execute_result"
    }
   ],
   "source": [
    "X_test_sc"
   ]
  },
  {
   "cell_type": "code",
   "execution_count": 167,
   "metadata": {},
   "outputs": [],
   "source": [
    "model = KNeighborsRegressor(n_neighbors=11)"
   ]
  },
  {
   "cell_type": "code",
   "execution_count": 168,
   "metadata": {},
   "outputs": [
    {
     "data": {
      "text/plain": [
       "KNeighborsRegressor(algorithm='auto', leaf_size=30, metric='minkowski',\n",
       "                    metric_params=None, n_jobs=None, n_neighbors=11, p=2,\n",
       "                    weights='uniform')"
      ]
     },
     "execution_count": 168,
     "metadata": {},
     "output_type": "execute_result"
    }
   ],
   "source": [
    "model.fit(X_sc,y)"
   ]
  },
  {
   "cell_type": "code",
   "execution_count": 169,
   "metadata": {},
   "outputs": [],
   "source": [
    "pred = model.predict(X_test_sc)"
   ]
  },
  {
   "cell_type": "code",
   "execution_count": 170,
   "metadata": {
    "scrolled": true
   },
   "outputs": [
    {
     "data": {
      "text/plain": [
       "array([12180.26051818, 14736.04476182,  9568.17641818,  9110.08663   ,\n",
       "        3712.20970082, 16207.69761455,  9150.91143727, 11716.86988182,\n",
       "       16872.03484091,  6968.16510818,  7843.68644727, 13121.14472909,\n",
       "       39946.22768636,  6010.33698818,  4345.75747455, 13876.97769545,\n",
       "       43901.95987091,  9932.26586364, 10937.16886   ,  3119.62592727,\n",
       "        7278.13522182,  6099.31560636,  5317.56314455, 20959.23313636,\n",
       "        6294.32261909, 45084.12237273,  5095.68069   ,  3806.85716091,\n",
       "       41815.83345909, 11737.71498091, 12927.65072   ,  9513.34517455,\n",
       "       12261.25775909,  8301.37636818,  7774.45136182,  5958.96902636,\n",
       "        6490.85232182,  3927.16830909, 24576.3297    , 45392.20692727,\n",
       "       23668.43394091,  6535.84580455,  3404.62854727, 39868.30196909,\n",
       "       20420.36272455, 11927.34312727, 13140.30235727, 40342.38459091,\n",
       "       19704.06530182,  3423.08590536,  5962.64695364,  8623.94634   ,\n",
       "        2441.08920455,  9721.36496818, 11547.04978727,  8309.41488545,\n",
       "        2397.96956818,  2882.89227091, 40108.33634182,  8855.68739364,\n",
       "       23668.43394091, 18694.05898455,  6346.22549091,  7442.42463182,\n",
       "       20808.95227091,  9581.29449091,  5923.59654909,  7678.79707909,\n",
       "        9544.48568273,  8343.60760091,  8537.12247   , 36127.44336545,\n",
       "        4523.82498182,  7256.18688818, 15517.41292091,  3458.28773718,\n",
       "        3453.50242809, 38083.52794455,  3023.31530818, 10011.80398182,\n",
       "        6770.40130545,  5926.93794   , 10539.46728273,  9782.80449636,\n",
       "        8468.37164   ,  3089.90602727,  8619.04820818, 14249.04486727,\n",
       "        5942.39248091,  3684.17245727,  6132.34945909,  5674.59753273,\n",
       "       22407.23085364,  4509.37813182, 17839.96779364,  9283.74045   ,\n",
       "       11417.33956273, 39996.02927273, 11073.98802091,  7561.66526818,\n",
       "        4662.01008636, 46338.24045909, 34900.60950909,  8373.62332   ,\n",
       "        6027.09074545,  8478.52667909,  5350.25405   , 10387.74745455,\n",
       "       11075.36599455,  4278.01817091,  5405.94225455, 10772.39157909,\n",
       "       13736.16144091, 11639.85851818,  3616.84782   ,  2409.77063182,\n",
       "        9257.40203545, 23383.02962727, 13673.10995182,  9456.64439636,\n",
       "       11490.27340364,  7698.95295818,  2749.37529091,  3665.60521636,\n",
       "       11488.27441727, 12192.38923636, 10029.96778636,  3445.22407909,\n",
       "        8716.86730091,  2821.42653636,  2069.96665   , 11410.88984455,\n",
       "        6461.25187364,  6795.36081   ,  5890.84664182, 14000.36421   ,\n",
       "       44460.24845545, 17175.67366636, 10213.68897909, 16440.82257091,\n",
       "        4031.42827727, 43020.8416    , 10539.36755455, 20914.06413818,\n",
       "       10680.90275   ,  4951.03938355, 12107.04397455,  6747.57424091,\n",
       "        9277.43271364,  6048.99817636,  5569.43227636, 11798.67234909,\n",
       "        9900.25615909, 23024.20192273, 41355.33150455,  4293.46946818,\n",
       "       14085.97867091, 12071.09251818,  4577.57868182,  9829.64251818,\n",
       "        8478.52667909,  5468.48260818, 11516.12370455,  8438.17871182,\n",
       "       10809.92503182, 23638.9622    ,  4839.83447727,  9568.17641818,\n",
       "       10738.10274545,  4223.73064455, 12660.38245818, 19088.09945455,\n",
       "       10382.40927909, 41552.42977182, 10713.27619091,  5953.66170818,\n",
       "        6594.42353636,  9003.09876818,  5449.67294545, 14787.89701455,\n",
       "       10394.81697364, 25870.10201545, 10623.86625182,  3119.62592727,\n",
       "       11073.98802091, 13227.27309727,  4526.71302273, 13159.98288364,\n",
       "        7656.34137455,  5886.26137818, 10910.70706909, 13419.52182727,\n",
       "        4206.52485909,  8189.26724909, 23256.89119909,  3851.07591182,\n",
       "        9867.61635545,  2243.11370909, 17923.93382273, 12097.34939545,\n",
       "        2294.61791364,  8168.23386091, 15943.34673727, 42051.46051364,\n",
       "        9493.74680455,  9462.22419364,  5812.69710545,  6770.40130545,\n",
       "        6847.58323727, 11709.2005    , 46038.85548636, 12870.80405455,\n",
       "       13279.69430091,  3655.98126818, 12458.71126818,  3593.54247809,\n",
       "       10224.12985909,  5209.43915545, 11721.55666909,  6187.67218818,\n",
       "        2648.3932    , 13774.89165   , 46731.79047727, 11418.41833545,\n",
       "        9890.18930273, 12280.38661364, 12254.62439091,  9647.26588364,\n",
       "        8869.0769    , 17989.62693182, 33054.72433636,  8373.35449273,\n",
       "        4691.0581    ,  4777.05605455,  4582.52405909,  9373.12506818,\n",
       "       10626.39114091, 14146.05021364,  4642.60429455, 18074.88817909,\n",
       "       12568.08186545, 11687.87583364,  4076.59297727, 11198.63744545,\n",
       "       22905.73966727, 11927.34312727, 10318.60510182, 11892.81941818,\n",
       "        2785.65479909, 19445.86469727, 42060.07134455, 42980.30849364,\n",
       "        3086.48937273,  7092.02463727,  5354.07439455, 13901.16059273,\n",
       "        8804.63695364, 16230.19123182,  3977.66823182,  9349.97446727,\n",
       "        4089.10163636,  6819.22686091,  3937.88472727, 37068.65595   ,\n",
       "        9818.06955545, 37040.10861364,  2225.09805455,  2973.71446182,\n",
       "        4345.75747455,  6951.35485909, 27881.12565455,  6222.73852727,\n",
       "        5942.39248091,  3092.71260455,  7516.40148636, 13514.36115091,\n",
       "        5170.31505818, 12390.88587182,  3913.02848636,  9900.25615909,\n",
       "        3392.95933364, 18791.07246182,  3119.62592727,  4020.96763909,\n",
       "        8442.63822727,  4767.11256818, 21854.08418091,  6194.33864545,\n",
       "       47091.40945909,  4707.53114273,  9714.70964818,  6315.18304727,\n",
       "        5740.50465818,  4220.37786273, 12330.57829   ,  2636.04818182,\n",
       "        1914.10881818,  9110.08663   , 12558.02905455,  8360.78900636,\n",
       "        4474.51701545, 14251.23134545, 12368.71405   , 17099.82486364,\n",
       "        3459.69975909, 43020.8416    ,  5975.95041273, 38847.87066364,\n",
       "        7327.10998909, 35031.77658182,  5335.04691818, 38643.38704727,\n",
       "       35031.77658182,  4649.19554091,  6795.36081   , 13388.35689455,\n",
       "        5775.2937    , 10387.12146091, 43328.14015091, 13054.17755909,\n",
       "       14539.58697818, 33165.63721091, 31201.25350455,  7072.72443455,\n",
       "       10702.80582909,  5811.79467364, 19575.62149727,  4371.79853455,\n",
       "       12152.58307   , 44576.53490545, 26077.82969091,  5812.69710545,\n",
       "       13097.40999091, 18694.05898455,  3756.02594727])"
      ]
     },
     "execution_count": 170,
     "metadata": {},
     "output_type": "execute_result"
    }
   ],
   "source": [
    "pred\n"
   ]
  },
  {
   "cell_type": "code",
   "execution_count": 171,
   "metadata": {},
   "outputs": [
    {
     "data": {
      "text/html": [
       "<div>\n",
       "<style scoped>\n",
       "    .dataframe tbody tr th:only-of-type {\n",
       "        vertical-align: middle;\n",
       "    }\n",
       "\n",
       "    .dataframe tbody tr th {\n",
       "        vertical-align: top;\n",
       "    }\n",
       "\n",
       "    .dataframe thead th {\n",
       "        text-align: right;\n",
       "    }\n",
       "</style>\n",
       "<table border=\"1\" class=\"dataframe\">\n",
       "  <thead>\n",
       "    <tr style=\"text-align: right;\">\n",
       "      <th></th>\n",
       "      <th>charges</th>\n",
       "    </tr>\n",
       "  </thead>\n",
       "  <tbody>\n",
       "    <tr>\n",
       "      <td>0</td>\n",
       "      <td>12180.260518</td>\n",
       "    </tr>\n",
       "    <tr>\n",
       "      <td>1</td>\n",
       "      <td>14736.044762</td>\n",
       "    </tr>\n",
       "    <tr>\n",
       "      <td>2</td>\n",
       "      <td>9568.176418</td>\n",
       "    </tr>\n",
       "    <tr>\n",
       "      <td>3</td>\n",
       "      <td>9110.086630</td>\n",
       "    </tr>\n",
       "    <tr>\n",
       "      <td>4</td>\n",
       "      <td>3712.209701</td>\n",
       "    </tr>\n",
       "    <tr>\n",
       "      <td>...</td>\n",
       "      <td>...</td>\n",
       "    </tr>\n",
       "    <tr>\n",
       "      <td>330</td>\n",
       "      <td>26077.829691</td>\n",
       "    </tr>\n",
       "    <tr>\n",
       "      <td>331</td>\n",
       "      <td>5812.697105</td>\n",
       "    </tr>\n",
       "    <tr>\n",
       "      <td>332</td>\n",
       "      <td>13097.409991</td>\n",
       "    </tr>\n",
       "    <tr>\n",
       "      <td>333</td>\n",
       "      <td>18694.058985</td>\n",
       "    </tr>\n",
       "    <tr>\n",
       "      <td>334</td>\n",
       "      <td>3756.025947</td>\n",
       "    </tr>\n",
       "  </tbody>\n",
       "</table>\n",
       "<p>335 rows × 1 columns</p>\n",
       "</div>"
      ],
      "text/plain": [
       "          charges\n",
       "0    12180.260518\n",
       "1    14736.044762\n",
       "2     9568.176418\n",
       "3     9110.086630\n",
       "4     3712.209701\n",
       "..            ...\n",
       "330  26077.829691\n",
       "331   5812.697105\n",
       "332  13097.409991\n",
       "333  18694.058985\n",
       "334   3756.025947\n",
       "\n",
       "[335 rows x 1 columns]"
      ]
     },
     "execution_count": 171,
     "metadata": {},
     "output_type": "execute_result"
    }
   ],
   "source": [
    "predictions = pd.DataFrame(pred,columns = ['charges'])\n",
    "predictions\n"
   ]
  },
  {
   "cell_type": "code",
   "execution_count": 172,
   "metadata": {},
   "outputs": [],
   "source": [
    "predictions.to_excel(\"predictions.xlsx\")"
   ]
  }
 ],
 "metadata": {
  "kernelspec": {
   "display_name": "Python 3",
   "language": "python",
   "name": "python3"
  },
  "language_info": {
   "codemirror_mode": {
    "name": "ipython",
    "version": 3
   },
   "file_extension": ".py",
   "mimetype": "text/x-python",
   "name": "python",
   "nbconvert_exporter": "python",
   "pygments_lexer": "ipython3",
   "version": "3.7.4"
  }
 },
 "nbformat": 4,
 "nbformat_minor": 2
}
